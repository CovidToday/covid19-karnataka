{
 "cells": [
  {
   "cell_type": "code",
   "execution_count": 1,
   "metadata": {},
   "outputs": [],
   "source": [
    "import numpy as np\n",
    "import pandas as pd\n",
    "import matplotlib.pyplot as plt\n",
    "from subprocess import call\n",
    "from tqdm import tqdm\n",
    "import pystan\n",
    "import seaborn as sns\n",
    "import matplotlib.dates as mdates\n",
    "from matplotlib.dates import DateFormatter"
   ]
  },
  {
   "cell_type": "markdown",
   "metadata": {},
   "source": [
    "## Code for Fitting NBinomial Distribution using Bayesian MCMC sampling in PySTAN"
   ]
  },
  {
   "cell_type": "code",
   "execution_count": 2,
   "metadata": {},
   "outputs": [
    {
     "name": "stderr",
     "output_type": "stream",
     "text": [
      "INFO:pystan:COMPILING THE C++ CODE FOR MODEL anon_model_3f10350cb87bd05c02a052a97d286391 NOW.\n",
      "D:\\Anaconda3\\envs\\tensorflow\\lib\\site-packages\\Cython\\Compiler\\Main.py:369: FutureWarning: Cython directive 'language_level' not set, using 2 for now (Py2). This will change in a later release! File: C:\\Users\\SAPTAR~1\\AppData\\Local\\Temp\\tmpu_suojli\\stanfit4anon_model_3f10350cb87bd05c02a052a97d286391_6333541571448954567.pyx\n",
      "  tree = Parsing.p_module(s, pxd, full_module_name)\n"
     ]
    }
   ],
   "source": [
    "rkfit_code = \"\"\"\n",
    "// Stan model for fitting negbinom2 to Data\n",
    "\n",
    "data {\n",
    " int < lower = 1 > N; // Sample size\n",
    " int x[N]; // Data\n",
    " real p[4]; // Priors\n",
    "}\n",
    "\n",
    "parameters {\n",
    " real rt; // shape parameter\n",
    " real k; // rate parameter\n",
    "}\n",
    "\n",
    "transformed parameters {\n",
    "}\n",
    "\n",
    "model {\n",
    " rt ~ gamma((p[1]/p[2])^2,p[1]/p[2]^2);\n",
    " k ~ gamma((p[3]/p[4])^2,p[3]/p[4]^2);\n",
    " for(n in 1:N){\n",
    " \n",
    "    x[n] ~  neg_binomial_2(rt, k);\n",
    " }\n",
    "}\n",
    "generated quantities {\n",
    " real sample;\n",
    " sample = neg_binomial_2_rng(rt,k);\n",
    "} // The posterior predictive distribution \n",
    "\"\"\"\n",
    "sm = pystan.StanModel(model_code=rkfit_code)\n",
    "\n",
    "def fit_dist(cases,prior=np.array((2.5,2.0,0.45,0.1)),model=sm,warmup=500,iterations=5000,chains=8):\n",
    "    data = {'N':len(cases),\n",
    "            'x':cases,\n",
    "            'p':prior}\n",
    "    fit = sm.sampling(data = data, warmup = warmup, iter = iterations, chains = chains)\n",
    "    return fit"
   ]
  },
  {
   "cell_type": "code",
   "execution_count": 3,
   "metadata": {},
   "outputs": [],
   "source": [
    "df = pd.read_excel('ann2.xlsx',usecols=['children_all','dt_conf','cat_4','cluster_3'])"
   ]
  },
  {
   "cell_type": "code",
   "execution_count": 4,
   "metadata": {},
   "outputs": [],
   "source": [
    "df.columns = [\"children\",\"cluster\",\"date\",\"category\"]\n",
    "df.date=pd.to_datetime(df.date,format='%d-%b-%Y')"
   ]
  },
  {
   "cell_type": "markdown",
   "metadata": {},
   "source": [
    "### Till 31th May"
   ]
  },
  {
   "cell_type": "markdown",
   "metadata": {},
   "source": [
    "#### Overall"
   ]
  },
  {
   "cell_type": "code",
   "execution_count": 5,
   "metadata": {},
   "outputs": [],
   "source": [
    "fit = fit_dist(df[df.date<=pd.to_datetime('05-31-2020')]['children'].values,np.array([2.5,2.0,0.45,0.1]))"
   ]
  },
  {
   "cell_type": "code",
   "execution_count": 6,
   "metadata": {
    "scrolled": true
   },
   "outputs": [
    {
     "data": {
      "text/plain": [
       "Inference for Stan model: anon_model_3f10350cb87bd05c02a052a97d286391.\n",
       "8 chains, each with iter=5000; warmup=500; thin=1; \n",
       "post-warmup draws per chain=4500, total post-warmup draws=36000.\n",
       "\n",
       "         mean se_mean     sd   2.5%    25%    50%    75%  97.5%  n_eff   Rhat\n",
       "rt       0.32  2.3e-4   0.03   0.27    0.3   0.32   0.34   0.38  14043    1.0\n",
       "k        0.05  2.2e-5 3.9e-3   0.04   0.05   0.05   0.05   0.06  32379    1.0\n",
       "sample   0.32  7.8e-3   1.48    0.0    0.0    0.0    0.0    4.0  35949    1.0\n",
       "lp__   -368.7  8.2e-3   1.01 -371.4 -369.1 -368.4 -368.0 -367.7  14963    1.0\n",
       "\n",
       "Samples were drawn using NUTS at Thu Nov 19 22:38:36 2020.\n",
       "For each parameter, n_eff is a crude measure of effective sample size,\n",
       "and Rhat is the potential scale reduction factor on split chains (at \n",
       "convergence, Rhat=1)."
      ]
     },
     "execution_count": 6,
     "metadata": {},
     "output_type": "execute_result"
    }
   ],
   "source": [
    "fit"
   ]
  },
  {
   "cell_type": "code",
   "execution_count": 7,
   "metadata": {},
   "outputs": [],
   "source": [
    "pd.DataFrame(fit.summary()['summary'],columns=fit.summary()['summary_colnames'],index=fit.summary()['summary_rownames']).iloc[:2,:].to_csv('Outputs/rt_k_till31may.csv')"
   ]
  },
  {
   "cell_type": "markdown",
   "metadata": {},
   "source": [
    "#### Histogram"
   ]
  },
  {
   "cell_type": "code",
   "execution_count": 5,
   "metadata": {},
   "outputs": [
    {
     "data": {
      "image/png": "[encoded data removed]",
      "text/plain": [
       "<Figure size 504x432 with 1 Axes>"
      ]
     },
     "metadata": {
      "needs_background": "light"
     },
     "output_type": "display_data"
    }
   ],
   "source": [
    "plt.figure(figsize=(7,6))\n",
    "plt.hist(np.clip(df[df.date<=pd.to_datetime('05-31-2020')]['children'].values,0,40),bins=np.arange(0,42),zorder=-1,edgecolor='black',linewidth=1.2,color='steelblue')\n",
    "plt.xlabel(\"Number of Secondary Cases\")\n",
    "plt.ylabel(\"Frequency\")\n",
    "plt.yscale('log')\n",
    "plt.xticks([0,10,20,30,40.5],['0','10','20','30','40+'])\n",
    "plt.savefig('Figures/Figures/Figures/child_hist_till31may.png',dpi=300)\n",
    "plt.show()"
   ]
  },
  {
   "cell_type": "markdown",
   "metadata": {},
   "source": [
    "#### Across Category"
   ]
  },
  {
   "cell_type": "code",
   "execution_count": 8,
   "metadata": {},
   "outputs": [
    {
     "name": "stdout",
     "output_type": "stream",
     "text": [
      "Imported Domestic\n",
      "(1897,)\n"
     ]
    },
    {
     "name": "stderr",
     "output_type": "stream",
     "text": [
      "WARNING:pystan:1 of 36000 iterations ended with a divergence (0.002777777777777778%).\n",
      "WARNING:pystan:Try running with adapt_delta larger than 0.8 to remove the divergences.\n"
     ]
    },
    {
     "name": "stdout",
     "output_type": "stream",
     "text": [
      "Inference for Stan model: anon_model_3f10350cb87bd05c02a052a97d286391.\n",
      "8 chains, each with iter=5000; warmup=500; thin=1; \n",
      "post-warmup draws per chain=4500, total post-warmup draws=36000.\n",
      "\n",
      "         mean se_mean     sd   2.5%    25%    50%    75%  97.5%  n_eff   Rhat\n",
      "rt        0.1  1.9e-4   0.02   0.07   0.09    0.1   0.11   0.14   9918    1.0\n",
      "k        0.02  2.0e-5 3.3e-3   0.01   0.02   0.02   0.02   0.03  25392    1.0\n",
      "sample    0.1  4.3e-3   0.83    0.0    0.0    0.0    0.0    1.0  36280    1.0\n",
      "lp__   -140.6  9.5e-3   1.02 -143.3 -141.0 -140.2 -139.8 -139.6  11584    1.0\n",
      "\n",
      "Samples were drawn using NUTS at Thu Nov 19 20:23:29 2020.\n",
      "For each parameter, n_eff is a crude measure of effective sample size,\n",
      "and Rhat is the potential scale reduction factor on split chains (at \n",
      "convergence, Rhat=1).\n",
      "Imported International\n",
      "(118,)\n"
     ]
    },
    {
     "name": "stderr",
     "output_type": "stream",
     "text": [
      "WARNING:pystan:3 of 36000 iterations ended with a divergence (0.008333333333333333%).\n",
      "WARNING:pystan:Try running with adapt_delta larger than 0.8 to remove the divergences.\n"
     ]
    },
    {
     "name": "stdout",
     "output_type": "stream",
     "text": [
      "Inference for Stan model: anon_model_3f10350cb87bd05c02a052a97d286391.\n",
      "8 chains, each with iter=5000; warmup=500; thin=1; \n",
      "post-warmup draws per chain=4500, total post-warmup draws=36000.\n",
      "\n",
      "         mean se_mean     sd   2.5%    25%    50%    75%  97.5%  n_eff   Rhat\n",
      "rt       0.25  5.5e-4   0.07   0.14    0.2   0.24   0.29    0.4  14420    1.0\n",
      "k        0.33  5.9e-4   0.08   0.19   0.27   0.32   0.38   0.51  18120    1.0\n",
      "sample   0.24  3.5e-3   0.67    0.0    0.0    0.0    0.0    2.0  35428    1.0\n",
      "lp__   -85.49  9.6e-3   1.05  -88.3 -85.89 -85.17 -84.74 -84.47  11931    1.0\n",
      "\n",
      "Samples were drawn using NUTS at Thu Nov 19 20:23:39 2020.\n",
      "For each parameter, n_eff is a crude measure of effective sample size,\n",
      "and Rhat is the potential scale reduction factor on split chains (at \n",
      "convergence, Rhat=1).\n",
      "Local Traced\n",
      "(820,)\n",
      "Inference for Stan model: anon_model_3f10350cb87bd05c02a052a97d286391.\n",
      "8 chains, each with iter=5000; warmup=500; thin=1; \n",
      "post-warmup draws per chain=4500, total post-warmup draws=36000.\n",
      "\n",
      "         mean se_mean     sd   2.5%    25%    50%    75%  97.5%  n_eff   Rhat\n",
      "rt       0.38  3.2e-4   0.05    0.3   0.35   0.38   0.41   0.48  19755    1.0\n",
      "k        0.12  1.0e-4   0.02   0.09   0.11   0.12   0.13   0.15  22425    1.0\n",
      "sample   0.37  6.9e-3   1.31    0.0    0.0    0.0    0.0    4.0  36155    1.0\n",
      "lp__   -254.8  8.3e-3   1.01 -257.6 -255.2 -254.5 -254.1 -253.9  14724    1.0\n",
      "\n",
      "Samples were drawn using NUTS at Thu Nov 19 20:24:10 2020.\n",
      "For each parameter, n_eff is a crude measure of effective sample size,\n",
      "and Rhat is the potential scale reduction factor on split chains (at \n",
      "convergence, Rhat=1).\n",
      "Local Untraced\n",
      "(386,)\n",
      "Inference for Stan model: anon_model_3f10350cb87bd05c02a052a97d286391.\n",
      "8 chains, each with iter=5000; warmup=500; thin=1; \n",
      "post-warmup draws per chain=4500, total post-warmup draws=36000.\n",
      "\n",
      "         mean se_mean     sd   2.5%    25%    50%    75%  97.5%  n_eff   Rhat\n",
      "rt       1.34  1.1e-3   0.16   1.06   1.23   1.33   1.45    1.7  20750    1.0\n",
      "k        0.21  1.5e-4   0.02   0.17   0.19   0.21   0.23   0.26  24959    1.0\n",
      "sample   1.35    0.02   3.19    0.0    0.0    0.0    1.0   11.0  35118    1.0\n",
      "lp__   120.84  8.3e-3   1.02 118.08 120.45 121.15 121.56 121.83  15154    1.0\n",
      "\n",
      "Samples were drawn using NUTS at Thu Nov 19 20:24:27 2020.\n",
      "For each parameter, n_eff is a crude measure of effective sample size,\n",
      "and Rhat is the potential scale reduction factor on split chains (at \n",
      "convergence, Rhat=1).\n"
     ]
    }
   ],
   "source": [
    "for i in np.unique(df['category']):\n",
    "    print(i)\n",
    "    vals = df[np.logical_and(df.date<=pd.to_datetime('05-31-2020'),df['category'] == i)]['children'].values\n",
    "    print(vals.shape)\n",
    "    fit = fit_dist(vals,np.array([2.5,2.0,0.45,0.1]))\n",
    "    print(fit)\n",
    "    pd.DataFrame(fit.summary()['summary'],columns=fit.summary()['summary_colnames'],index=fit.summary()['summary_rownames']).iloc[:2,:].to_csv(f'Outputs/rt_k_{i}_till31may.csv')"
   ]
  },
  {
   "cell_type": "code",
   "execution_count": 9,
   "metadata": {},
   "outputs": [
    {
     "data": {
      "image/png": "[encoded data removed]",
      "text/plain": [
       "<Figure size 864x360 with 2 Axes>"
      ]
     },
     "metadata": {
      "needs_background": "light"
     },
     "output_type": "display_data"
    }
   ],
   "source": [
    "temp = pd.read_csv('Outputs/rt_k_till31may.csv')\n",
    "rtm = temp[\"50%\"][0]\n",
    "km = temp[\"50%\"][1]\n",
    "\n",
    "rts=[{\n",
    "    'label' : \"Overall\",\n",
    "    'whislo': temp[\"2.5%\"][0],    # Bottom whisker position\n",
    "    'q1'    : temp[\"25%\"][0],    # First quartile (25th percentile)\n",
    "    'med'   : temp[\"50%\"][0],    # Median         (50th percentile)\n",
    "    'q3'    : temp[\"75%\"][0],    # Third quartile (75th percentile)\n",
    "    'whishi': temp[\"97.5%\"][0],    # Top whisker position\n",
    "    'fliers': []        # Outliers\n",
    "    }]\n",
    "ks = [{\n",
    "    'label' : \"Overall\",\n",
    "    'whislo': temp[\"2.5%\"][1],    # Bottom whisker position\n",
    "    'q1'    : temp[\"25%\"][1],    # First quartile (25th percentile)\n",
    "    'med'   : temp[\"50%\"][1],    # Median         (50th percentile)\n",
    "    'q3'    : temp[\"75%\"][1],    # Third quartile (75th percentile)\n",
    "    'whishi': temp[\"97.5%\"][1],    # Top whisker position\n",
    "    'fliers': []        # Outliers\n",
    "    }]\n",
    "for i in np.unique(df['category']):\n",
    "    temp = pd.read_csv(f'Outputs/rt_k_{i}_till31may.csv')\n",
    "    rts.append({\n",
    "    'label' : i,\n",
    "    'whislo': temp[\"2.5%\"][0],    # Bottom whisker position\n",
    "    'q1'    : temp[\"25%\"][0],    # First quartile (25th percentile)\n",
    "    'med'   : temp[\"50%\"][0],    # Median         (50th percentile)\n",
    "    'q3'    : temp[\"75%\"][0],    # Third quartile (75th percentile)\n",
    "    'whishi': temp[\"97.5%\"][0],    # Top whisker position\n",
    "    'fliers': []        # Outliers\n",
    "    })\n",
    "    ks.append({\n",
    "    'label' : i,\n",
    "    'whislo': temp[\"2.5%\"][1],    # Bottom whisker position\n",
    "    'q1'    : temp[\"25%\"][1],    # First quartile (25th percentile)\n",
    "    'med'   : temp[\"50%\"][1],    # Median         (50th percentile)\n",
    "    'q3'    : temp[\"75%\"][1],    # Third quartile (75th percentile)\n",
    "    'whishi': temp[\"97.5%\"][1],    # Top whisker position\n",
    "    'fliers': []        # Outliers\n",
    "    })\n",
    "rts.reverse()\n",
    "ks.reverse()\n",
    "\n",
    "fig, ax = plt.subplots(1,2,figsize=(12,5))\n",
    "\n",
    "ax[0].bxp(rts, showfliers=False,vert=False)\n",
    "ax[0].set_xlabel(\"Reproduction Number (R)\")\n",
    "ax[0].set_frame_on(False)\n",
    "ax[0].vlines(rtm,0.5,5.5,color='k',linestyle='dashed',linewidth=1)\n",
    "ax[1].bxp(ks, showfliers=False,vert=False)\n",
    "ax[1].set_xlabel(\"Overdispersion Parameter (k)\")\n",
    "ax[1].set_yticklabels([\"\",\"\",\"\",\"\",\"\"])\n",
    "ax[1].set_frame_on(False)\n",
    "ax[1].vlines(km,0.5,5.5,color='k',linestyle='dashed',linewidth=1)\n",
    "plt.savefig(\"Figures/rt_k_till31may.png\",dpi=300)"
   ]
  },
  {
   "cell_type": "markdown",
   "metadata": {},
   "source": [
    "### Till 13th June"
   ]
  },
  {
   "cell_type": "markdown",
   "metadata": {},
   "source": [
    "#### Overall"
   ]
  },
  {
   "cell_type": "code",
   "execution_count": 10,
   "metadata": {},
   "outputs": [],
   "source": [
    "fit = fit_dist(df[df.date<=pd.to_datetime('06-13-2020')]['children'].values,np.array([2.5,2.0,0.45,0.1]))"
   ]
  },
  {
   "cell_type": "code",
   "execution_count": 11,
   "metadata": {},
   "outputs": [
    {
     "data": {
      "text/plain": [
       "Inference for Stan model: anon_model_3f10350cb87bd05c02a052a97d286391.\n",
       "8 chains, each with iter=5000; warmup=500; thin=1; \n",
       "post-warmup draws per chain=4500, total post-warmup draws=36000.\n",
       "\n",
       "         mean se_mean     sd   2.5%    25%    50%    75%  97.5%  n_eff   Rhat\n",
       "rt       0.23  1.5e-4   0.02    0.2   0.22   0.23   0.24   0.26  10194    1.0\n",
       "k        0.04  1.3e-5 2.4e-3   0.04   0.04   0.04   0.04   0.04  37639    1.0\n",
       "sample   0.24  7.1e-3   1.35    0.0    0.0    0.0    0.0    3.0  35786    1.0\n",
       "lp__   -889.1  8.7e-3   1.01 -891.8 -889.5 -888.8 -888.4 -888.1  13415    1.0\n",
       "\n",
       "Samples were drawn using NUTS at Thu Nov 19 20:32:01 2020.\n",
       "For each parameter, n_eff is a crude measure of effective sample size,\n",
       "and Rhat is the potential scale reduction factor on split chains (at \n",
       "convergence, Rhat=1)."
      ]
     },
     "execution_count": 11,
     "metadata": {},
     "output_type": "execute_result"
    }
   ],
   "source": [
    "fit"
   ]
  },
  {
   "cell_type": "code",
   "execution_count": 12,
   "metadata": {},
   "outputs": [],
   "source": [
    "pd.DataFrame(fit.summary()['summary'],columns=fit.summary()['summary_colnames'],index=fit.summary()['summary_rownames']).iloc[:2,:].to_csv('Outputs/rt_k_till13june.csv')"
   ]
  },
  {
   "cell_type": "markdown",
   "metadata": {},
   "source": [
    "#### Histogram"
   ]
  },
  {
   "cell_type": "code",
   "execution_count": 6,
   "metadata": {},
   "outputs": [
    {
     "data": {
      "image/png": "[encoded data removed]",
      "text/plain": [
       "<Figure size 504x432 with 1 Axes>"
      ]
     },
     "metadata": {
      "needs_background": "light"
     },
     "output_type": "display_data"
    }
   ],
   "source": [
    "plt.figure(figsize=(7,6))\n",
    "plt.hist(np.clip(df[df.date<=pd.to_datetime('06-13-2020')]['children'].values,0,40),bins=np.arange(0,42),zorder=-1,edgecolor='black',linewidth=1.2,color='steelblue')\n",
    "plt.xlabel(\"Number of Secondary Cases\")\n",
    "plt.ylabel(\"Frequency\")\n",
    "plt.yscale('log')\n",
    "plt.xticks([0,10,20,30,40.5],['0','10','20','30','40+'])\n",
    "plt.savefig('Figures/Figures/Figures/child_hist_till13june.png',dpi=300)\n",
    "plt.show()"
   ]
  },
  {
   "cell_type": "markdown",
   "metadata": {},
   "source": [
    "#### Across Category"
   ]
  },
  {
   "cell_type": "code",
   "execution_count": 13,
   "metadata": {},
   "outputs": [
    {
     "name": "stdout",
     "output_type": "stream",
     "text": [
      "Imported Domestic\n",
      "(4643,)\n",
      "Inference for Stan model: anon_model_3f10350cb87bd05c02a052a97d286391.\n",
      "8 chains, each with iter=5000; warmup=500; thin=1; \n",
      "post-warmup draws per chain=4500, total post-warmup draws=36000.\n",
      "\n",
      "         mean se_mean     sd   2.5%    25%    50%    75%  97.5%  n_eff   Rhat\n",
      "rt       0.06  8.0e-5 7.8e-3   0.04   0.05   0.06   0.06   0.07   9568    1.0\n",
      "k        0.02  1.3e-5 2.2e-3   0.01   0.01   0.02   0.02   0.02  28371    1.0\n",
      "sample   0.05  2.8e-3   0.52    0.0    0.0    0.0    0.0    0.0  35237    1.0\n",
      "lp__   -404.5  9.6e-3   1.04 -407.3 -404.9 -404.2 -403.8 -403.5  11739    1.0\n",
      "\n",
      "Samples were drawn using NUTS at Thu Nov 19 20:34:51 2020.\n",
      "For each parameter, n_eff is a crude measure of effective sample size,\n",
      "and Rhat is the potential scale reduction factor on split chains (at \n",
      "convergence, Rhat=1).\n",
      "Imported International\n",
      "(208,)\n"
     ]
    },
    {
     "name": "stderr",
     "output_type": "stream",
     "text": [
      "WARNING:pystan:16 of 36000 iterations ended with a divergence (0.044444444444444446%).\n",
      "WARNING:pystan:Try running with adapt_delta larger than 0.8 to remove the divergences.\n"
     ]
    },
    {
     "name": "stdout",
     "output_type": "stream",
     "text": [
      "Inference for Stan model: anon_model_3f10350cb87bd05c02a052a97d286391.\n",
      "8 chains, each with iter=5000; warmup=500; thin=1; \n",
      "post-warmup draws per chain=4500, total post-warmup draws=36000.\n",
      "\n",
      "         mean se_mean     sd   2.5%    25%    50%    75%  97.5%  n_eff   Rhat\n",
      "rt       0.14  2.6e-4   0.03   0.09   0.12   0.14   0.16   0.22  16239    1.0\n",
      "k        0.29  5.4e-4   0.08   0.17   0.24   0.29   0.34   0.46  19641    1.0\n",
      "sample   0.14  2.5e-3   0.47    0.0    0.0    0.0    0.0    1.0  35549    1.0\n",
      "lp__   -99.79  9.0e-3   1.03 -102.5 -100.1 -99.47 -99.06 -98.79  13096    1.0\n",
      "\n",
      "Samples were drawn using NUTS at Thu Nov 19 20:35:05 2020.\n",
      "For each parameter, n_eff is a crude measure of effective sample size,\n",
      "and Rhat is the potential scale reduction factor on split chains (at \n",
      "convergence, Rhat=1).\n",
      "Local Traced\n",
      "(1219,)\n",
      "Inference for Stan model: anon_model_3f10350cb87bd05c02a052a97d286391.\n",
      "8 chains, each with iter=5000; warmup=500; thin=1; \n",
      "post-warmup draws per chain=4500, total post-warmup draws=36000.\n",
      "\n",
      "         mean se_mean     sd   2.5%    25%    50%    75%  97.5%  n_eff   Rhat\n",
      "rt       0.42  2.8e-4   0.04   0.35   0.39   0.42   0.45   0.51  22102    1.0\n",
      "k         0.1  6.6e-5   0.01   0.08    0.1    0.1   0.11   0.13  26553    1.0\n",
      "sample   0.43  7.8e-3   1.49    0.0    0.0    0.0    0.0    5.0  36687    1.0\n",
      "lp__   -294.7  8.1e-3    1.0 -297.4 -295.1 -294.4 -294.0 -293.8  15118    1.0\n",
      "\n",
      "Samples were drawn using NUTS at Thu Nov 19 20:36:11 2020.\n",
      "For each parameter, n_eff is a crude measure of effective sample size,\n",
      "and Rhat is the potential scale reduction factor on split chains (at \n",
      "convergence, Rhat=1).\n",
      "Local Untraced\n",
      "(754,)\n",
      "Inference for Stan model: anon_model_3f10350cb87bd05c02a052a97d286391.\n",
      "8 chains, each with iter=5000; warmup=500; thin=1; \n",
      "post-warmup draws per chain=4500, total post-warmup draws=36000.\n",
      "\n",
      "         mean se_mean     sd   2.5%    25%    50%    75%  97.5%  n_eff   Rhat\n",
      "rt       1.05  6.5e-4    0.1   0.87   0.98   1.04   1.11   1.26  23140    1.0\n",
      "k        0.17  9.5e-5   0.02   0.15   0.16   0.17   0.19   0.21  28736    1.0\n",
      "sample   1.04    0.01   2.68    0.0    0.0    0.0    1.0    9.0  36594    1.0\n",
      "lp__    61.22  8.1e-3   1.01  58.48  60.84  61.53  61.95  62.21  15567    1.0\n",
      "\n",
      "Samples were drawn using NUTS at Thu Nov 19 20:36:53 2020.\n",
      "For each parameter, n_eff is a crude measure of effective sample size,\n",
      "and Rhat is the potential scale reduction factor on split chains (at \n",
      "convergence, Rhat=1).\n"
     ]
    }
   ],
   "source": [
    "for i in np.unique(df['category']):\n",
    "    print(i)\n",
    "    vals = df[np.logical_and(df.date<=pd.to_datetime('06-13-2020'),df['category'] == i)]['children'].values\n",
    "    print(vals.shape)\n",
    "    fit = fit_dist(vals,np.array([2.5,2.0,0.45,0.1]))\n",
    "    print(fit)\n",
    "    pd.DataFrame(fit.summary()['summary'],columns=fit.summary()['summary_colnames'],index=fit.summary()['summary_rownames']).iloc[:2,:].to_csv(f'Outputs/rt_k_{i}_till13june.csv')"
   ]
  },
  {
   "cell_type": "code",
   "execution_count": 14,
   "metadata": {},
   "outputs": [
    {
     "data": {
      "image/png": "[encoded data removed]",
      "text/plain": [
       "<Figure size 864x360 with 2 Axes>"
      ]
     },
     "metadata": {
      "needs_background": "light"
     },
     "output_type": "display_data"
    }
   ],
   "source": [
    "temp = pd.read_csv('Outputs/rt_k_till13june.csv')\n",
    "rtm = temp[\"50%\"][0]\n",
    "km = temp[\"50%\"][1]\n",
    "\n",
    "rts=[{\n",
    "    'label' : \"Overall\",\n",
    "    'whislo': temp[\"2.5%\"][0],    # Bottom whisker position\n",
    "    'q1'    : temp[\"25%\"][0],    # First quartile (25th percentile)\n",
    "    'med'   : temp[\"50%\"][0],    # Median         (50th percentile)\n",
    "    'q3'    : temp[\"75%\"][0],    # Third quartile (75th percentile)\n",
    "    'whishi': temp[\"97.5%\"][0],    # Top whisker position\n",
    "    'fliers': []        # Outliers\n",
    "    }]\n",
    "ks = [{\n",
    "    'label' : \"Overall\",\n",
    "    'whislo': temp[\"2.5%\"][1],    # Bottom whisker position\n",
    "    'q1'    : temp[\"25%\"][1],    # First quartile (25th percentile)\n",
    "    'med'   : temp[\"50%\"][1],    # Median         (50th percentile)\n",
    "    'q3'    : temp[\"75%\"][1],    # Third quartile (75th percentile)\n",
    "    'whishi': temp[\"97.5%\"][1],    # Top whisker position\n",
    "    'fliers': []        # Outliers\n",
    "    }]\n",
    "for i in np.unique(df['category']):\n",
    "    temp = pd.read_csv(f'Outputs/rt_k_{i}_till13june.csv')\n",
    "    rts.append({\n",
    "    'label' : i,\n",
    "    'whislo': temp[\"2.5%\"][0],    # Bottom whisker position\n",
    "    'q1'    : temp[\"25%\"][0],    # First quartile (25th percentile)\n",
    "    'med'   : temp[\"50%\"][0],    # Median         (50th percentile)\n",
    "    'q3'    : temp[\"75%\"][0],    # Third quartile (75th percentile)\n",
    "    'whishi': temp[\"97.5%\"][0],    # Top whisker position\n",
    "    'fliers': []        # Outliers\n",
    "    })\n",
    "    ks.append({\n",
    "    'label' : i,\n",
    "    'whislo': temp[\"2.5%\"][1],    # Bottom whisker position\n",
    "    'q1'    : temp[\"25%\"][1],    # First quartile (25th percentile)\n",
    "    'med'   : temp[\"50%\"][1],    # Median         (50th percentile)\n",
    "    'q3'    : temp[\"75%\"][1],    # Third quartile (75th percentile)\n",
    "    'whishi': temp[\"97.5%\"][1],    # Top whisker position\n",
    "    'fliers': []        # Outliers\n",
    "    })\n",
    "rts.reverse()\n",
    "ks.reverse()\n",
    "\n",
    "fig, ax = plt.subplots(1,2,figsize=(12,5))\n",
    "\n",
    "ax[0].bxp(rts, showfliers=False,vert=False)\n",
    "ax[0].set_xlabel(\"Reproduction Number (R)\")\n",
    "ax[0].set_frame_on(False)\n",
    "ax[0].vlines(rtm,0.5,5.5,color='k',linestyle='dashed',linewidth=1)\n",
    "ax[1].bxp(ks, showfliers=False,vert=False)\n",
    "ax[1].set_xlabel(\"Overdispersion Parameter (k)\")\n",
    "ax[1].set_yticklabels([\"\",\"\",\"\",\"\",\"\"])\n",
    "ax[1].set_frame_on(False)\n",
    "ax[1].vlines(km,0.5,5.5,color='k',linestyle='dashed',linewidth=1)\n",
    "plt.savefig(\"Figures/rt_k_till13june.png\",dpi=300)"
   ]
  },
  {
   "cell_type": "markdown",
   "metadata": {},
   "source": [
    "### Till 7th July"
   ]
  },
  {
   "cell_type": "markdown",
   "metadata": {},
   "source": [
    "#### Overall"
   ]
  },
  {
   "cell_type": "code",
   "execution_count": 15,
   "metadata": {},
   "outputs": [],
   "source": [
    "fit = fit_dist(df[df.date<=pd.to_datetime('07-07-2020')]['children'].values,np.array([2.5,2.0,0.45,0.1]))"
   ]
  },
  {
   "cell_type": "code",
   "execution_count": 16,
   "metadata": {},
   "outputs": [
    {
     "data": {
      "text/plain": [
       "Inference for Stan model: anon_model_3f10350cb87bd05c02a052a97d286391.\n",
       "8 chains, each with iter=5000; warmup=500; thin=1; \n",
       "post-warmup draws per chain=4500, total post-warmup draws=36000.\n",
       "\n",
       "         mean se_mean     sd   2.5%    25%    50%    75%  97.5%  n_eff   Rhat\n",
       "rt       0.19  7.0e-5 6.7e-3   0.18   0.18   0.19   0.19    0.2   9165    1.0\n",
       "k        0.04  6.1e-6 1.2e-3   0.03   0.03   0.04   0.04   0.04  37840    1.0\n",
       "sample   0.19  5.9e-3   1.12    0.0    0.0    0.0    0.0    2.0  36251    1.0\n",
       "lp__    -4284  9.6e-3    1.0  -4286  -4284  -4283  -4283  -4283  10820    1.0\n",
       "\n",
       "Samples were drawn using NUTS at Thu Nov 19 20:57:22 2020.\n",
       "For each parameter, n_eff is a crude measure of effective sample size,\n",
       "and Rhat is the potential scale reduction factor on split chains (at \n",
       "convergence, Rhat=1)."
      ]
     },
     "execution_count": 16,
     "metadata": {},
     "output_type": "execute_result"
    }
   ],
   "source": [
    "fit"
   ]
  },
  {
   "cell_type": "code",
   "execution_count": 17,
   "metadata": {},
   "outputs": [],
   "source": [
    "pd.DataFrame(fit.summary()['summary'],columns=fit.summary()['summary_colnames'],index=fit.summary()['summary_rownames']).iloc[:2,:].to_csv('Outputs/rt_k_till7july.csv')"
   ]
  },
  {
   "cell_type": "markdown",
   "metadata": {},
   "source": [
    "#### Histogram"
   ]
  },
  {
   "cell_type": "code",
   "execution_count": 30,
   "metadata": {},
   "outputs": [
    {
     "data": {
      "image/png": "[encoded data removed]",
      "text/plain": [
       "<Figure size 504x432 with 1 Axes>"
      ]
     },
     "metadata": {
      "needs_background": "light"
     },
     "output_type": "display_data"
    }
   ],
   "source": [
    "plt.figure(figsize=(7,6))\n",
    "plt.hist(np.clip(df[df.date<=pd.to_datetime('07-07-2020')]['children'].values,0,40),bins=np.arange(0,42),zorder=-1,edgecolor='black',linewidth=1.2,color='steelblue')\n",
    "plt.xlabel(\"Number of Secondary Cases\")\n",
    "plt.ylabel(\"Frequency\")\n",
    "plt.yscale('log')\n",
    "plt.xticks([0,10,20,30,40.5],['0','10','20','30','40+'])\n",
    "plt.savefig('Figures/Figures/Figures/child_hist_till07july.png',dpi=300)\n",
    "plt.show()"
   ]
  },
  {
   "cell_type": "markdown",
   "metadata": {},
   "source": [
    "#### Across Category"
   ]
  },
  {
   "cell_type": "code",
   "execution_count": 18,
   "metadata": {},
   "outputs": [
    {
     "name": "stdout",
     "output_type": "stream",
     "text": [
      "Imported Domestic\n",
      "(6093,)\n",
      "Inference for Stan model: anon_model_3f10350cb87bd05c02a052a97d286391.\n",
      "8 chains, each with iter=5000; warmup=500; thin=1; \n",
      "post-warmup draws per chain=4500, total post-warmup draws=36000.\n",
      "\n",
      "         mean se_mean     sd   2.5%    25%    50%    75%  97.5%  n_eff   Rhat\n",
      "rt       0.07  7.4e-5 7.3e-3   0.06   0.06   0.07   0.07   0.08   9870    1.0\n",
      "k        0.02  1.2e-5 2.2e-3   0.02   0.02   0.02   0.02   0.02  34274    1.0\n",
      "sample   0.07  3.1e-3   0.58    0.0    0.0    0.0    0.0    1.0  34447    1.0\n",
      "lp__   -645.2  9.3e-3   1.03 -648.0 -645.6 -644.9 -644.5 -644.2  12190    1.0\n",
      "\n",
      "Samples were drawn using NUTS at Thu Nov 19 21:00:43 2020.\n",
      "For each parameter, n_eff is a crude measure of effective sample size,\n",
      "and Rhat is the potential scale reduction factor on split chains (at \n",
      "convergence, Rhat=1).\n",
      "Imported International\n",
      "(524,)\n"
     ]
    },
    {
     "name": "stderr",
     "output_type": "stream",
     "text": [
      "WARNING:pystan:2 of 36000 iterations ended with a divergence (0.005555555555555556%).\n",
      "WARNING:pystan:Try running with adapt_delta larger than 0.8 to remove the divergences.\n"
     ]
    },
    {
     "name": "stdout",
     "output_type": "stream",
     "text": [
      "Inference for Stan model: anon_model_3f10350cb87bd05c02a052a97d286391.\n",
      "8 chains, each with iter=5000; warmup=500; thin=1; \n",
      "post-warmup draws per chain=4500, total post-warmup draws=36000.\n",
      "\n",
      "         mean se_mean     sd   2.5%    25%    50%    75%  97.5%  n_eff   Rhat\n",
      "rt       0.06  8.5e-5   0.01   0.04   0.05   0.06   0.07   0.09  21698    1.0\n",
      "k        0.26  5.7e-4   0.07   0.14    0.2   0.25    0.3   0.42  16022    1.0\n",
      "sample   0.07  1.5e-3   0.29    0.0    0.0    0.0    0.0    1.0  36580    1.0\n",
      "lp__   -134.1  8.8e-3   1.01 -136.8 -134.5 -133.8 -133.3 -133.1  13273    1.0\n",
      "\n",
      "Samples were drawn using NUTS at Thu Nov 19 21:01:04 2020.\n",
      "For each parameter, n_eff is a crude measure of effective sample size,\n",
      "and Rhat is the potential scale reduction factor on split chains (at \n",
      "convergence, Rhat=1).\n",
      "Local Traced\n",
      "(4198,)\n",
      "Inference for Stan model: anon_model_3f10350cb87bd05c02a052a97d286391.\n",
      "8 chains, each with iter=5000; warmup=500; thin=1; \n",
      "post-warmup draws per chain=4500, total post-warmup draws=36000.\n",
      "\n",
      "         mean se_mean     sd   2.5%    25%    50%    75%  97.5%  n_eff   Rhat\n",
      "rt       0.26  1.3e-4   0.02   0.23   0.25   0.26   0.27    0.3  18015    1.0\n",
      "k        0.07  2.7e-5 5.0e-3   0.06   0.07   0.07   0.08   0.08  35284    1.0\n",
      "sample   0.25  5.6e-3   1.06    0.0    0.0    0.0    0.0    3.0  35420    1.0\n",
      "lp__    -1136  7.8e-3    1.0  -1139  -1137  -1136  -1136  -1135  16218    1.0\n",
      "\n",
      "Samples were drawn using NUTS at Thu Nov 19 21:03:00 2020.\n",
      "For each parameter, n_eff is a crude measure of effective sample size,\n",
      "and Rhat is the potential scale reduction factor on split chains (at \n",
      "convergence, Rhat=1).\n",
      "Local Untraced\n",
      "(16000,)\n",
      "Inference for Stan model: anon_model_3f10350cb87bd05c02a052a97d286391.\n",
      "8 chains, each with iter=5000; warmup=500; thin=1; \n",
      "post-warmup draws per chain=4500, total post-warmup draws=36000.\n",
      "\n",
      "         mean se_mean     sd   2.5%    25%    50%    75%  97.5%  n_eff   Rhat\n",
      "rt       0.22  1.0e-4 9.8e-3    0.2   0.21   0.22   0.23   0.24   9527    1.0\n",
      "k        0.04  7.6e-6 1.5e-3   0.03   0.04   0.04   0.04   0.04  38230    1.0\n",
      "sample   0.22  6.6e-3   1.26    0.0    0.0    0.0    0.0    3.0  36064    1.0\n",
      "lp__    -2406  8.9e-3   0.97  -2408  -2406  -2406  -2405  -2405  12024    1.0\n",
      "\n",
      "Samples were drawn using NUTS at Thu Nov 19 21:14:43 2020.\n",
      "For each parameter, n_eff is a crude measure of effective sample size,\n",
      "and Rhat is the potential scale reduction factor on split chains (at \n",
      "convergence, Rhat=1).\n"
     ]
    }
   ],
   "source": [
    "for i in np.unique(df['category']):\n",
    "    print(i)\n",
    "    vals = df[np.logical_and(df.date<=pd.to_datetime('07-07-2020'),df['category'] == i)]['children'].values\n",
    "    print(vals.shape)\n",
    "    fit = fit_dist(vals,np.array([2.5,2.0,0.45,0.1]))\n",
    "    print(fit)\n",
    "    pd.DataFrame(fit.summary()['summary'],columns=fit.summary()['summary_colnames'],index=fit.summary()['summary_rownames']).iloc[:2,:].to_csv(f'Outputs/rt_k_{i}_till7july.csv')"
   ]
  },
  {
   "cell_type": "code",
   "execution_count": 19,
   "metadata": {},
   "outputs": [
    {
     "data": {
      "image/png": "[encoded data removed]",
      "text/plain": [
       "<Figure size 864x360 with 2 Axes>"
      ]
     },
     "metadata": {
      "needs_background": "light"
     },
     "output_type": "display_data"
    }
   ],
   "source": [
    "temp = pd.read_csv('Outputs/rt_k_till7july.csv')\n",
    "rtm = temp[\"50%\"][0]\n",
    "km = temp[\"50%\"][1]\n",
    "\n",
    "rts=[{\n",
    "    'label' : \"Overall\",\n",
    "    'whislo': temp[\"2.5%\"][0],    # Bottom whisker position\n",
    "    'q1'    : temp[\"25%\"][0],    # First quartile (25th percentile)\n",
    "    'med'   : temp[\"50%\"][0],    # Median         (50th percentile)\n",
    "    'q3'    : temp[\"75%\"][0],    # Third quartile (75th percentile)\n",
    "    'whishi': temp[\"97.5%\"][0],    # Top whisker position\n",
    "    'fliers': []        # Outliers\n",
    "    }]\n",
    "ks = [{\n",
    "    'label' : \"Overall\",\n",
    "    'whislo': temp[\"2.5%\"][1],    # Bottom whisker position\n",
    "    'q1'    : temp[\"25%\"][1],    # First quartile (25th percentile)\n",
    "    'med'   : temp[\"50%\"][1],    # Median         (50th percentile)\n",
    "    'q3'    : temp[\"75%\"][1],    # Third quartile (75th percentile)\n",
    "    'whishi': temp[\"97.5%\"][1],    # Top whisker position\n",
    "    'fliers': []        # Outliers\n",
    "    }]\n",
    "for i in np.unique(df['category']):\n",
    "    temp = pd.read_csv(f'Outputs/rt_k_{i}_till7july.csv')\n",
    "    rts.append({\n",
    "    'label' : i,\n",
    "    'whislo': temp[\"2.5%\"][0],    # Bottom whisker position\n",
    "    'q1'    : temp[\"25%\"][0],    # First quartile (25th percentile)\n",
    "    'med'   : temp[\"50%\"][0],    # Median         (50th percentile)\n",
    "    'q3'    : temp[\"75%\"][0],    # Third quartile (75th percentile)\n",
    "    'whishi': temp[\"97.5%\"][0],    # Top whisker position\n",
    "    'fliers': []        # Outliers\n",
    "    })\n",
    "    ks.append({\n",
    "    'label' : i,\n",
    "    'whislo': temp[\"2.5%\"][1],    # Bottom whisker position\n",
    "    'q1'    : temp[\"25%\"][1],    # First quartile (25th percentile)\n",
    "    'med'   : temp[\"50%\"][1],    # Median         (50th percentile)\n",
    "    'q3'    : temp[\"75%\"][1],    # Third quartile (75th percentile)\n",
    "    'whishi': temp[\"97.5%\"][1],    # Top whisker position\n",
    "    'fliers': []        # Outliers\n",
    "    })\n",
    "rts.reverse()\n",
    "ks.reverse()\n",
    "\n",
    "fig, ax = plt.subplots(1,2,figsize=(12,5))\n",
    "\n",
    "ax[0].bxp(rts, showfliers=False,vert=False)\n",
    "ax[0].set_xlabel(\"Reproduction Number (R)\")\n",
    "ax[0].set_frame_on(False)\n",
    "ax[0].vlines(rtm,0.5,5.5,color='k',linestyle='dashed',linewidth=1)\n",
    "ax[1].bxp(ks, showfliers=False,vert=False)\n",
    "ax[1].set_xlabel(\"Overdispersion Parameter (k)\")\n",
    "ax[1].set_yticklabels([\"\",\"\",\"\",\"\",\"\"])\n",
    "ax[1].set_frame_on(False)\n",
    "ax[1].vlines(km,0.5,5.5,color='k',linestyle='dashed',linewidth=1)\n",
    "plt.savefig(\"Figures/rt_k_till7july.png\",dpi=300)"
   ]
  },
  {
   "cell_type": "markdown",
   "metadata": {},
   "source": [
    "### Generate Summary Table"
   ]
  },
  {
   "cell_type": "code",
   "execution_count": 41,
   "metadata": {},
   "outputs": [],
   "source": [
    "data = [[\"\",\"Till 31st May\",\"Till 31st May\",\"Till 13th June\",\"Till 13th June\",\"Till 7th July\",\"Till 7th July\"],\n",
    "        [\"\",\"Reproductive Number (R)\",\"Overdispersion parameter (k)\",\"Reproductive Number (R)\",\"Overdispersion parameter (k)\",\"Reproductive Number (R)\",\"Overdispersion parameter (k)\"],\n",
    "        [\"All Cases\",\"\",\"\",\"\",\"\",\"\",\"\"],\n",
    "        [\"Imported Domestic\",\"\",\"\",\"\",\"\",\"\",\"\"],\n",
    "        [\"Imported International\",\"\",\"\",\"\",\"\",\"\",\"\"],\n",
    "        [\"Local Traced\",\"\",\"\",\"\",\"\",\"\",\"\"],\n",
    "        [\"Local Untraced\",\"\",\"\",\"\",\"\",\"\",\"\"]]\n",
    "for n,i in enumerate([\"rt_k_till31may.csv\",\"rt_k_till13june.csv\",\"rt_k_till7july.csv\"]):\n",
    "    temp = pd.read_csv(i)\n",
    "    data[2][1+2*n] = f'{temp[\"50%\"][0]:0.2f} ({temp[\"2.5%\"][0]:0.2f},{temp[\"97.5%\"][0]:0.2f})'\n",
    "    data[2][2+2*n] = f'{temp[\"50%\"][1]:0.2f} ({temp[\"2.5%\"][1]:0.2f},{temp[\"97.5%\"][1]:0.2f})'\n",
    "\n",
    "for m,h in enumerate(np.unique(df['category'])):\n",
    "    for n,i in enumerate([f\"rt_k_{h}_till31may.csv\",f\"rt_k_{h}_till13june.csv\",f\"rt_k_{h}_till7july.csv\"]):\n",
    "        temp = pd.read_csv(i)\n",
    "        data[3+m][1+2*n] = f'{temp[\"50%\"][0]:0.2f} ({temp[\"2.5%\"][0]:0.2f},{temp[\"97.5%\"][0]:0.2f})'\n",
    "        data[3+m][2+2*n] = f'{temp[\"50%\"][1]:0.2f} ({temp[\"2.5%\"][1]:0.2f},{temp[\"97.5%\"][1]:0.2f})'\n",
    "\n",
    "pd.DataFrame(np.array(data)).to_csv('Outputs/rt_k_table.csv',index=False,header=False)"
   ]
  },
  {
   "cell_type": "markdown",
   "metadata": {},
   "source": [
    "## Across Clusters"
   ]
  },
  {
   "cell_type": "code",
   "execution_count": 17,
   "metadata": {},
   "outputs": [
    {
     "name": "stdout",
     "output_type": "stream",
     "text": [
      "bellary\n",
      "(221,)\n",
      "Inference for Stan model: anon_model_3f10350cb87bd05c02a052a97d286391.\n",
      "8 chains, each with iter=5000; warmup=500; thin=1; \n",
      "post-warmup draws per chain=4500, total post-warmup draws=36000.\n",
      "\n",
      "         mean se_mean     sd   2.5%    25%    50%    75%  97.5%  n_eff   Rhat\n",
      "rt       1.04  1.2e-3   0.16   0.76   0.92   1.02   1.14    1.4  19539    1.0\n",
      "k        0.23  2.3e-4   0.03   0.17   0.21   0.23   0.25   0.31  21968    1.0\n",
      "sample   1.05    0.01   2.43    0.0    0.0    0.0    1.0    8.0  35374    1.0\n",
      "lp__    14.51  8.5e-3   1.02  11.75  14.13  14.82  15.23   15.5  14355    1.0\n",
      "\n",
      "Samples were drawn using NUTS at Thu Nov 19 23:07:18 2020.\n",
      "For each parameter, n_eff is a crude measure of effective sample size,\n",
      "and Rhat is the potential scale reduction factor on split chains (at \n",
      "convergence, Rhat=1).\n",
      "pharma\n",
      "(76,)\n",
      "Inference for Stan model: anon_model_3f10350cb87bd05c02a052a97d286391.\n",
      "8 chains, each with iter=5000; warmup=500; thin=1; \n",
      "post-warmup draws per chain=4500, total post-warmup draws=36000.\n",
      "\n",
      "         mean se_mean     sd   2.5%    25%    50%    75%  97.5%  n_eff   Rhat\n",
      "rt        0.8  1.9e-3   0.21   0.48   0.65   0.77   0.91   1.29  12581    1.0\n",
      "k        0.32  5.0e-4   0.07    0.2   0.27   0.31   0.36   0.46  17233    1.0\n",
      "sample    0.8  9.4e-3   1.75    0.0    0.0    0.0    1.0    6.0  34825    1.0\n",
      "lp__    -44.7  9.7e-3   1.05 -47.58 -45.11 -44.37 -43.94 -43.66  11720    1.0\n",
      "\n",
      "Samples were drawn using NUTS at Thu Nov 19 23:07:26 2020.\n",
      "For each parameter, n_eff is a crude measure of effective sample size,\n",
      "and Rhat is the potential scale reduction factor on split chains (at \n",
      "convergence, Rhat=1).\n",
      "tj\n",
      "(97,)\n",
      "Inference for Stan model: anon_model_3f10350cb87bd05c02a052a97d286391.\n",
      "8 chains, each with iter=5000; warmup=500; thin=1; \n",
      "post-warmup draws per chain=4500, total post-warmup draws=36000.\n",
      "\n",
      "         mean se_mean     sd   2.5%    25%    50%    75%  97.5%  n_eff   Rhat\n",
      "rt       0.84  1.4e-3   0.18   0.54   0.71   0.82   0.94   1.25  16669    1.0\n",
      "k        0.34  5.0e-4   0.07   0.22   0.29   0.33   0.38   0.48  17870    1.0\n",
      "sample   0.86  9.6e-3    1.8    0.0    0.0    0.0    1.0    6.0  35436    1.0\n",
      "lp__   -81.32  8.9e-3   1.02 -84.07 -81.74  -81.0 -80.59 -80.32  13288    1.0\n",
      "\n",
      "Samples were drawn using NUTS at Thu Nov 19 23:07:35 2020.\n",
      "For each parameter, n_eff is a crude measure of effective sample size,\n",
      "and Rhat is the potential scale reduction factor on split chains (at \n",
      "convergence, Rhat=1).\n"
     ]
    }
   ],
   "source": [
    "temp = df.dropna()\n",
    "for i in np.unique(temp['cluster']):\n",
    "    print(i)\n",
    "    vals = temp[np.logical_and(temp.date<=pd.to_datetime('07-07-2020'),temp['cluster'] == i)]['children'].values\n",
    "    print(vals.shape)\n",
    "    if vals.shape[0]>0:\n",
    "        fit = fit_dist(vals,np.array([2.5,2.0,0.45,0.1]))\n",
    "        print(fit)\n",
    "        pd.DataFrame(fit.summary()['summary'],columns=fit.summary()['summary_colnames'],index=fit.summary()['summary_rownames']).iloc[:2,:].to_csv(f'Outputs/rt_k_{i}_till13june.csv')"
   ]
  },
  {
   "cell_type": "markdown",
   "metadata": {},
   "source": [
    "#### Histogram"
   ]
  },
  {
   "cell_type": "code",
   "execution_count": 13,
   "metadata": {},
   "outputs": [
    {
     "data": {
      "image/png": "[encoded data removed]",
      "text/plain": [
       "<Figure size 504x432 with 1 Axes>"
      ]
     },
     "metadata": {
      "needs_background": "light"
     },
     "output_type": "display_data"
    },
    {
     "data": {
      "image/png": "[encoded data removed]",
      "text/plain": [
       "<Figure size 504x432 with 1 Axes>"
      ]
     },
     "metadata": {
      "needs_background": "light"
     },
     "output_type": "display_data"
    },
    {
     "data": {
      "image/png": "[encoded data removed]",
      "text/plain": [
       "<Figure size 504x432 with 1 Axes>"
      ]
     },
     "metadata": {
      "needs_background": "light"
     },
     "output_type": "display_data"
    }
   ],
   "source": [
    "for i in np.unique(temp['cluster']):\n",
    "    plt.figure(figsize=(7,6))\n",
    "    plt.hist(np.clip(temp[temp['cluster']==i]['children'].values,0,40),bins=np.arange(0,42),zorder=-1,edgecolor='black',linewidth=1.2,color='steelblue')\n",
    "    plt.xlabel(\"Number of Secondary Cases\")\n",
    "    plt.ylabel(\"Frequency\")\n",
    "    plt.yscale('log')\n",
    "    plt.xticks([0,10,20,30,40.5],['0','10','20','30','40+'])\n",
    "    plt.savefig(f'Figures/Figures/Figures/child_hist_{i}.png',dpi=300)\n",
    "    plt.show()"
   ]
  },
  {
   "cell_type": "markdown",
   "metadata": {},
   "source": [
    "## All Clusters"
   ]
  },
  {
   "cell_type": "code",
   "execution_count": 12,
   "metadata": {},
   "outputs": [],
   "source": [
    "temp = df.dropna()"
   ]
  },
  {
   "cell_type": "code",
   "execution_count": 9,
   "metadata": {},
   "outputs": [],
   "source": [
    "fit = fit_dist(temp['children'].values,np.array([2.5,2.0,0.45,0.1]))"
   ]
  },
  {
   "cell_type": "code",
   "execution_count": 10,
   "metadata": {},
   "outputs": [
    {
     "data": {
      "text/plain": [
       "Inference for Stan model: anon_model_3f10350cb87bd05c02a052a97d286391.\n",
       "8 chains, each with iter=5000; warmup=500; thin=1; \n",
       "post-warmup draws per chain=4500, total post-warmup draws=36000.\n",
       "\n",
       "         mean se_mean     sd   2.5%    25%    50%    75%  97.5%  n_eff   Rhat\n",
       "rt       0.91  7.7e-4   0.11   0.72   0.83    0.9   0.98   1.15  20615    1.0\n",
       "k        0.22  1.7e-4   0.03   0.17    0.2   0.21   0.23   0.27  25350    1.0\n",
       "sample   0.92    0.01   2.21    0.0    0.0    0.0    1.0    7.0  35774    1.0\n",
       "lp__   -33.74  8.3e-3    1.0 -36.43 -34.12 -33.43 -33.03 -32.76  14513    1.0\n",
       "\n",
       "Samples were drawn using NUTS at Mon Nov 23 10:48:49 2020.\n",
       "For each parameter, n_eff is a crude measure of effective sample size,\n",
       "and Rhat is the potential scale reduction factor on split chains (at \n",
       "convergence, Rhat=1)."
      ]
     },
     "execution_count": 10,
     "metadata": {},
     "output_type": "execute_result"
    }
   ],
   "source": [
    "fit"
   ]
  },
  {
   "cell_type": "code",
   "execution_count": 11,
   "metadata": {},
   "outputs": [],
   "source": [
    "pd.DataFrame(fit.summary()['summary'],columns=fit.summary()['summary_colnames'],index=fit.summary()['summary_rownames']).iloc[:2,:].to_csv('Outputs/rt_k_allclusters.csv')"
   ]
  },
  {
   "cell_type": "markdown",
   "metadata": {},
   "source": [
    "#### Histogram"
   ]
  },
  {
   "cell_type": "code",
   "execution_count": 21,
   "metadata": {},
   "outputs": [
    {
     "data": {
      "image/png": "[encoded data removed]",
      "text/plain": [
       "<Figure size 504x432 with 1 Axes>"
      ]
     },
     "metadata": {
      "needs_background": "light"
     },
     "output_type": "display_data"
    }
   ],
   "source": [
    "plt.figure(figsize=(7,6))\n",
    "plt.hist(np.clip(temp['children'].values,0,40),bins=np.arange(0,42),zorder=-1,edgecolor='black',linewidth=1.2,color='steelblue')\n",
    "plt.xlabel(\"Number of Secondary Cases\")\n",
    "plt.ylabel(\"Frequency\")\n",
    "plt.yscale('log')\n",
    "plt.xticks([0,10,20,30,40.5],['0','10','20','30','40+'])\n",
    "plt.savefig(f'Figures/Figures/Figures/child_hist_allclusters.png',dpi=300)\n",
    "plt.show()"
   ]
  },
  {
   "cell_type": "markdown",
   "metadata": {},
   "source": [
    "## Only confirmed"
   ]
  },
  {
   "cell_type": "code",
   "execution_count": 31,
   "metadata": {},
   "outputs": [],
   "source": [
    "df = pd.read_excel('onlyconfirmedtraced956.xlsx')"
   ]
  },
  {
   "cell_type": "code",
   "execution_count": 23,
   "metadata": {},
   "outputs": [],
   "source": [
    "fit = fit_dist(df['children_all'].values,np.array([2.5,2.0,0.45,0.1]))"
   ]
  },
  {
   "cell_type": "code",
   "execution_count": 24,
   "metadata": {},
   "outputs": [
    {
     "data": {
      "text/plain": [
       "Inference for Stan model: anon_model_3f10350cb87bd05c02a052a97d286391.\n",
       "8 chains, each with iter=5000; warmup=500; thin=1; \n",
       "post-warmup draws per chain=4500, total post-warmup draws=36000.\n",
       "\n",
       "         mean se_mean     sd   2.5%    25%    50%    75%  97.5%  n_eff   Rhat\n",
       "rt       0.75  5.0e-4   0.08   0.62    0.7   0.75    0.8   0.91  22576    1.0\n",
       "k        0.13  7.4e-5   0.01   0.11   0.12   0.13   0.14   0.15  26732    1.0\n",
       "sample   0.74    0.01   2.29    0.0    0.0    0.0    0.0    7.0  36371    1.0\n",
       "lp__   -20.65  8.5e-3   1.03 -23.42 -21.05 -20.34 -19.92 -19.65  14719    1.0\n",
       "\n",
       "Samples were drawn using NUTS at Thu Nov 19 23:14:26 2020.\n",
       "For each parameter, n_eff is a crude measure of effective sample size,\n",
       "and Rhat is the potential scale reduction factor on split chains (at \n",
       "convergence, Rhat=1)."
      ]
     },
     "execution_count": 24,
     "metadata": {},
     "output_type": "execute_result"
    }
   ],
   "source": [
    "fit"
   ]
  },
  {
   "cell_type": "code",
   "execution_count": 25,
   "metadata": {},
   "outputs": [],
   "source": [
    "pd.DataFrame(fit.summary()['summary'],columns=fit.summary()['summary_colnames'],index=fit.summary()['summary_rownames']).iloc[:2,:].to_csv('Outputs/rt_k_confirmed.csv')"
   ]
  },
  {
   "cell_type": "markdown",
   "metadata": {},
   "source": [
    "#### Histogram"
   ]
  },
  {
   "cell_type": "code",
   "execution_count": 32,
   "metadata": {},
   "outputs": [
    {
     "data": {
      "image/png": "[encoded data removed]",
      "text/plain": [
       "<Figure size 504x432 with 1 Axes>"
      ]
     },
     "metadata": {
      "needs_background": "light"
     },
     "output_type": "display_data"
    }
   ],
   "source": [
    "plt.figure(figsize=(7,6))\n",
    "plt.hist(np.clip(df['children_all'].values,0,40),bins=np.arange(0,42),zorder=-1,edgecolor='black',linewidth=1.2,color='steelblue')\n",
    "plt.xlabel(\"Number of Secondary Cases\")\n",
    "plt.ylabel(\"Frequency\")\n",
    "plt.yscale('log')\n",
    "plt.xticks([0,10,20,30,40.5],['0','10','20','30','40+'])\n",
    "plt.savefig('Figures/Figures/Figures/child_hist_confirmed.png',dpi=300)\n",
    "plt.show()"
   ]
  }
 ],
 "metadata": {
  "kernelspec": {
   "display_name": "Python (tensorflow)",
   "language": "python",
   "name": "tensorflow"
  },
  "language_info": {
   "codemirror_mode": {
    "name": "ipython",
    "version": 3
   },
   "file_extension": ".py",
   "mimetype": "text/x-python",
   "name": "python",
   "nbconvert_exporter": "python",
   "pygments_lexer": "ipython3",
   "version": "3.6.8"
  }
 },
 "nbformat": 4,
 "nbformat_minor": 4
}
