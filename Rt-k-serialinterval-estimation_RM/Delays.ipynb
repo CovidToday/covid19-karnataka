{
 "cells": [
  {
   "cell_type": "code",
   "execution_count": 1,
   "metadata": {},
   "outputs": [],
   "source": [
    "import numpy as np\n",
    "import pandas as pd\n",
    "import matplotlib.pyplot as plt\n",
    "from tqdm import tqdm\n",
    "import seaborn as sns\n",
    "import scipy as sp\n",
    "import sys"
   ]
  },
  {
   "cell_type": "code",
   "execution_count": 92,
   "metadata": {},
   "outputs": [],
   "source": [
    "df = pd.read_excel('Delays_3 for histogram.xlsx')"
   ]
  },
  {
   "cell_type": "code",
   "execution_count": 93,
   "metadata": {},
   "outputs": [
    {
     "data": {
      "image/png": "[encoded data removed]",
      "text/plain": [
       "<Figure size 864x288 with 3 Axes>"
      ]
     },
     "metadata": {
      "needs_background": "light"
     },
     "output_type": "display_data"
    }
   ],
   "source": [
    "plt.figure(figsize=(12,4))\n",
    "vmin = np.nanmin(df.iloc[:,-3:].values)\n",
    "vmax = np.nanmax(df.iloc[:,-3:].values)\n",
    "plt.subplot(1,3,3)\n",
    "plt.hist(df['Symptom onset to hospitalisation'],bins=np.arange(vmin,vmax,1),zorder=-1,color='steelblue',density=True)\n",
    "plt.ylim(0,0.2)\n",
    "plt.gca().set_yticklabels([])\n",
    "plt.gca().spines['top'].set_visible(False)\n",
    "plt.gca().spines['right'].set_visible(False)\n",
    "plt.xlabel('Symptom onset to hospitalisation (days)')\n",
    "\n",
    "plt.subplot(1,3,2)\n",
    "plt.hist(df['Symptom onset to lab confirmation'],bins=np.arange(vmin,vmax,1),zorder=-1,color='mediumseagreen',density=True)\n",
    "plt.ylim(0,0.2)\n",
    "plt.gca().set_yticklabels([])\n",
    "plt.gca().spines['top'].set_visible(False)\n",
    "plt.gca().spines['right'].set_visible(False)\n",
    "plt.xlabel('Symptom onset to lab confirmation (days)')\n",
    "\n",
    "plt.subplot(1,3,1)\n",
    "plt.hist(df['Symptom onset to sample collection'],bins=np.arange(vmin,vmax,1),zorder=-1,color='indianred',density=True)\n",
    "plt.ylim(0,0.2)\n",
    "plt.gca().spines['top'].set_visible(False)\n",
    "plt.gca().spines['right'].set_visible(False)\n",
    "plt.xlabel('Symptom onset to sample collection (days)')\n",
    "\n",
    "plt.tight_layout()\n",
    "plt.savefig('Figures/delayplot.png',dpi=600)"
   ]
  },
  {
   "cell_type": "code",
   "execution_count": 94,
   "metadata": {},
   "outputs": [
    {
     "name": "stdout",
     "output_type": "stream",
     "text": [
      "Symptom onset to sample collection,3.038 (2.609-3.487),3.553 (2.7574.387)\n",
      "\n",
      "Symptom onset to lab confirmation,5.146 (4.732-5.594),3.643 (2.8644.471)\n",
      "\n",
      "Symptom onset to hospitalisation,3.426 (3.035-3.848),3.332 (2.6634.075)\n",
      "\n"
     ]
    }
   ],
   "source": [
    "f = open(\"outputs/combined_delays.csv\", \"w\")\n",
    "f.write(\"All,N,Mean (95% CI),SD (95% CI)\\n\")\n",
    "for l in df.iloc[:,-3:].columns:\n",
    "    vals = df[l].values.flatten()\n",
    "    vals = vals[~np.isnan(vals)]\n",
    "    means = []\n",
    "    sds = []\n",
    "    for i in range(10000):\n",
    "        boots = np.random.choice(vals,size=vals.shape[0],replace=True)\n",
    "        means.append(np.nanmean(boots))\n",
    "        sds.append(np.nanstd(boots))\n",
    "    f.write(f\"{l},{vals.shape[0]},{np.nanmean(vals):0.3f} ({np.quantile(means,0.025):0.3f}-{np.quantile(means,0.975):0.3f}),{np.nanstd(vals):0.3f} ({np.quantile(sds,0.025):0.3f}-{np.quantile(sds,0.975):0.3f})\\n\")    \n",
    "    print(f\"{l},{np.nanmean(vals):0.3f} ({np.quantile(means,0.025):0.3f}-{np.quantile(means,0.975):0.3f}),{np.nanstd(vals):0.3f} ({np.quantile(sds,0.025):0.3f}{np.quantile(sds,0.975):0.3f})\\n\")\n",
    "f.close()"
   ]
  },
  {
   "cell_type": "code",
   "execution_count": 95,
   "metadata": {},
   "outputs": [],
   "source": [
    "df = pd.read_excel('Delays subgroups.xlsx')"
   ]
  },
  {
   "cell_type": "code",
   "execution_count": 96,
   "metadata": {},
   "outputs": [
    {
     "data": {
      "text/html": [
       "<div>\n",
       "<style scoped>\n",
       "    .dataframe tbody tr th:only-of-type {\n",
       "        vertical-align: middle;\n",
       "    }\n",
       "\n",
       "    .dataframe tbody tr th {\n",
       "        vertical-align: top;\n",
       "    }\n",
       "\n",
       "    .dataframe thead th {\n",
       "        text-align: right;\n",
       "    }\n",
       "</style>\n",
       "<table border=\"1\" class=\"dataframe\">\n",
       "  <thead>\n",
       "    <tr style=\"text-align: right;\">\n",
       "      <th></th>\n",
       "      <th>Patient Number</th>\n",
       "      <th>cluster_3</th>\n",
       "      <th>cat_4</th>\n",
       "      <th>cat_2</th>\n",
       "      <th>#arrival to symponset</th>\n",
       "      <th>#symponset to sample collection</th>\n",
       "      <th>#symponset to testresult</th>\n",
       "      <th>#sample collection to results</th>\n",
       "    </tr>\n",
       "  </thead>\n",
       "  <tbody>\n",
       "    <tr>\n",
       "      <th>0</th>\n",
       "      <td>1.0</td>\n",
       "      <td>NaN</td>\n",
       "      <td>Imported International</td>\n",
       "      <td>NaN</td>\n",
       "      <td>3.0</td>\n",
       "      <td>1.0</td>\n",
       "      <td>4.0</td>\n",
       "      <td>3.0</td>\n",
       "    </tr>\n",
       "    <tr>\n",
       "      <th>1</th>\n",
       "      <td>2.0</td>\n",
       "      <td>NaN</td>\n",
       "      <td>Local Traced</td>\n",
       "      <td>NaN</td>\n",
       "      <td>NaN</td>\n",
       "      <td>0.0</td>\n",
       "      <td>1.0</td>\n",
       "      <td>1.0</td>\n",
       "    </tr>\n",
       "    <tr>\n",
       "      <th>2</th>\n",
       "      <td>3.0</td>\n",
       "      <td>NaN</td>\n",
       "      <td>Local Traced</td>\n",
       "      <td>NaN</td>\n",
       "      <td>NaN</td>\n",
       "      <td>0.0</td>\n",
       "      <td>1.0</td>\n",
       "      <td>1.0</td>\n",
       "    </tr>\n",
       "    <tr>\n",
       "      <th>3</th>\n",
       "      <td>4.0</td>\n",
       "      <td>NaN</td>\n",
       "      <td>Imported International</td>\n",
       "      <td>NaN</td>\n",
       "      <td>-4.0</td>\n",
       "      <td>4.0</td>\n",
       "      <td>5.0</td>\n",
       "      <td>1.0</td>\n",
       "    </tr>\n",
       "    <tr>\n",
       "      <th>4</th>\n",
       "      <td>5.0</td>\n",
       "      <td>NaN</td>\n",
       "      <td>Imported International</td>\n",
       "      <td>NaN</td>\n",
       "      <td>3.0</td>\n",
       "      <td>1.0</td>\n",
       "      <td>2.0</td>\n",
       "      <td>1.0</td>\n",
       "    </tr>\n",
       "  </tbody>\n",
       "</table>\n",
       "</div>"
      ],
      "text/plain": [
       "   Patient Number cluster_3                   cat_4 cat_2  \\\n",
       "0             1.0       NaN  Imported International   NaN   \n",
       "1             2.0       NaN            Local Traced   NaN   \n",
       "2             3.0       NaN            Local Traced   NaN   \n",
       "3             4.0       NaN  Imported International   NaN   \n",
       "4             5.0       NaN  Imported International   NaN   \n",
       "\n",
       "   #arrival to symponset  #symponset to sample collection  \\\n",
       "0                    3.0                              1.0   \n",
       "1                    NaN                              0.0   \n",
       "2                    NaN                              0.0   \n",
       "3                   -4.0                              4.0   \n",
       "4                    3.0                              1.0   \n",
       "\n",
       "   #symponset to testresult  #sample collection to results  \n",
       "0                       4.0                            3.0  \n",
       "1                       1.0                            1.0  \n",
       "2                       1.0                            1.0  \n",
       "3                       5.0                            1.0  \n",
       "4                       2.0                            1.0  "
      ]
     },
     "execution_count": 96,
     "metadata": {},
     "output_type": "execute_result"
    }
   ],
   "source": [
    "df.head()"
   ]
  },
  {
   "cell_type": "code",
   "execution_count": 97,
   "metadata": {},
   "outputs": [
    {
     "name": "stdout",
     "output_type": "stream",
     "text": [
      "Imported International:57#arrival to symponset,3.333 (1.771-5.404),7.022 (3.59210.687)\n",
      "\n",
      "Imported International:58#symponset to sample collection,2.621 (1.828-3.569),3.393 (1.7944.549)\n",
      "\n",
      "Imported International:58#symponset to testresult,4.672 (3.897-5.603),3.339 (1.9604.429)\n",
      "\n",
      "Imported International:121#sample collection to results,2.050 (1.826-2.298),1.323 (1.0431.584)\n",
      "\n",
      "Local Traced:5#arrival to symponset,8.000 (3.000-13.000),5.865 (1.9607.255)\n",
      "\n",
      "Local Traced:51#symponset to sample collection,2.667 (1.765-3.980),4.152 (1.4816.628)\n",
      "\n",
      "Local Traced:51#symponset to testresult,4.784 (3.804-6.157),4.376 (1.7416.943)\n",
      "\n",
      "Local Traced:823#sample collection to results,2.334 (2.209-2.481),1.995 (1.2572.737)\n",
      "\n",
      "Local Untraced:5#arrival to symponset,5.600 (3.400-8.200),2.577 (0.4003.600)\n",
      "\n",
      "Local Untraced:112#symponset to sample collection,3.554 (3.018-4.107),2.939 (2.4023.493)\n",
      "\n",
      "Local Untraced:112#symponset to testresult,5.661 (5.098-6.241),3.107 (2.5573.599)\n",
      "\n",
      "Local Untraced:443#sample collection to results,2.916 (2.722-3.115),2.119 (1.9352.301)\n",
      "\n",
      "Imported Domestic:28#arrival to symponset,1.929 (0.714-3.214),3.369 (2.2234.235)\n",
      "\n",
      "Imported Domestic:40#symponset to sample collection,2.675 (1.475-4.075),4.268 (2.5495.735)\n",
      "\n",
      "Imported Domestic:40#symponset to testresult,4.850 (3.650-6.275),4.204 (2.4955.638)\n",
      "\n",
      "Imported Domestic:2011#sample collection to results,4.169 (4.063-4.279),2.496 (2.1682.991)\n",
      "\n"
     ]
    }
   ],
   "source": [
    "f = open(\"outputs/combined_delays.csv\", \"a\")\n",
    "for k in df['cat_4'].unique():\n",
    "    f.write(f\"{k},N,Mean (95% CI),SD (95% CI)\\n\")\n",
    "    for l in df.iloc[:,-4:].columns:\n",
    "        vals = df[df['cat_4']==k][l].values.flatten()\n",
    "        vals = vals[~np.isnan(vals)]\n",
    "        print(f\"{k}:{vals.shape[0]}\",end='')\n",
    "        means = []\n",
    "        sds = []\n",
    "        for i in range(10000):\n",
    "            boots = np.random.choice(vals,size=vals.shape[0],replace=True)\n",
    "            means.append(np.nanmean(boots))\n",
    "            sds.append(np.nanstd(boots))\n",
    "        f.write(f\"{l},{vals.shape[0]},{np.nanmean(vals):0.3f} ({np.quantile(means,0.025):0.3f}-{np.quantile(means,0.975):0.3f}),{np.nanstd(vals):0.3f} ({np.quantile(sds,0.025):0.3f}-{np.quantile(sds,0.975):0.3f})\\n\")    \n",
    "        print(f\"{l},{np.nanmean(vals):0.3f} ({np.quantile(means,0.025):0.3f}-{np.quantile(means,0.975):0.3f}),{np.nanstd(vals):0.3f} ({np.quantile(sds,0.025):0.3f}{np.quantile(sds,0.975):0.3f})\\n\")\n",
    "f.close()"
   ]
  },
  {
   "cell_type": "code",
   "execution_count": 98,
   "metadata": {},
   "outputs": [
    {
     "name": "stdout",
     "output_type": "stream",
     "text": [
      "pharma:0"
     ]
    },
    {
     "name": "stderr",
     "output_type": "stream",
     "text": [
      "D:\\Anaconda3\\envs\\tensorflow\\lib\\site-packages\\ipykernel_launcher.py:12: RuntimeWarning: Mean of empty slice\n",
      "  if sys.path[0] == '':\n",
      "C:\\Users\\Saptarshi\\AppData\\Roaming\\Python\\Python36\\site-packages\\numpy\\lib\\nanfunctions.py:1665: RuntimeWarning: Degrees of freedom <= 0 for slice.\n",
      "  keepdims=keepdims)\n",
      "D:\\Anaconda3\\envs\\tensorflow\\lib\\site-packages\\ipykernel_launcher.py:14: RuntimeWarning: Mean of empty slice\n",
      "  \n",
      "D:\\Anaconda3\\envs\\tensorflow\\lib\\site-packages\\ipykernel_launcher.py:15: RuntimeWarning: Mean of empty slice\n",
      "  from ipykernel import kernelapp as app\n"
     ]
    },
    {
     "name": "stdout",
     "output_type": "stream",
     "text": [
      "#arrival to symponset,nan (nan-nan),nan (nannan)\n",
      "\n",
      "pharma:17#symponset to sample collection,3.000 (2.118-3.882),1.847 (1.2892.220)\n",
      "\n",
      "pharma:17#symponset to testresult,4.706 (3.882-5.529),1.807 (1.1942.237)\n",
      "\n",
      "pharma:76#sample collection to results,1.908 (1.711-2.119),0.920 (0.6561.176)\n",
      "\n",
      "tj:4#arrival to symponset,5.250 (1.750-7.500),3.112 (0.4333.767)\n",
      "\n",
      "tj:8#symponset to sample collection,10.875 (5.250-17.500),8.894 (3.46211.769)\n",
      "\n",
      "tj:8#symponset to testresult,13.000 (7.375-19.750),9.152 (3.46212.135)\n",
      "\n",
      "tj:97#sample collection to results,1.979 (1.794-2.175),0.974 (0.7821.139)\n",
      "\n"
     ]
    }
   ],
   "source": [
    "f = open(\"outputs/combined_delays.csv\", \"a\")\n",
    "for k in df['cluster_3'].dropna().unique():\n",
    "    f.write(f\"{k},N,Mean (95% CI),SD (95% CI)\\n\")\n",
    "    for l in df.iloc[:,-4:].columns:\n",
    "        vals = df[df['cluster_3']==k][l].values\n",
    "        vals = vals[~np.isnan(vals)]\n",
    "        print(f\"{k}:{vals.shape[0]}\",end='')\n",
    "        means = []\n",
    "        sds = []\n",
    "        for i in range(10000):\n",
    "            boots = np.random.choice(vals,size=vals.shape[0],replace=True)\n",
    "            means.append(np.nanmean(boots))\n",
    "            sds.append(np.nanstd(boots))\n",
    "        f.write(f\"{l},{vals.shape[0]},{np.nanmean(vals):0.3f} ({np.quantile(means,0.025):0.3f}-{np.quantile(means,0.975):0.3f}),{np.nanstd(vals):0.3f} ({np.quantile(sds,0.025):0.3f}-{np.quantile(sds,0.975):0.3f})\\n\")    \n",
    "        print(f\"{l},{np.nanmean(vals):0.3f} ({np.quantile(means,0.025):0.3f}-{np.quantile(means,0.975):0.3f}),{np.nanstd(vals):0.3f} ({np.quantile(sds,0.025):0.3f}{np.quantile(sds,0.975):0.3f})\\n\")\n",
    "f.close()"
   ]
  },
  {
   "cell_type": "code",
   "execution_count": 3,
   "metadata": {},
   "outputs": [],
   "source": [
    "df = pd.read_excel('testturnover3404.xlsx')"
   ]
  },
  {
   "cell_type": "code",
   "execution_count": 11,
   "metadata": {},
   "outputs": [
    {
     "name": "stdout",
     "output_type": "stream",
     "text": [
      "3397#sample collection to results,3.453 (3.380-3.527),2.180 (2.111-2.250)\n",
      "\n"
     ]
    }
   ],
   "source": [
    "f = open(\"outputs/combined_delays.csv\", \"a\")\n",
    "f.write(\"Test Turnover,N,Mean (95% CI),SD (95% CI)\\n\")\n",
    "vals = df['#sample collection to results']\n",
    "vals = vals[~np.isnan(vals)]\n",
    "print(f\"{vals.shape[0]}\",end='')\n",
    "means = []\n",
    "sds = []\n",
    "for i in range(10000):\n",
    "    boots = np.random.choice(vals,size=vals.shape[0],replace=True)\n",
    "    means.append(np.nanmean(boots))\n",
    "    sds.append(np.nanstd(boots))\n",
    "f.write(f\"#sample collection to results,{vals.shape[0]},{np.nanmean(vals):0.3f} ({np.quantile(means,0.025):0.3f}-{np.quantile(means,0.975):0.3f}),{np.nanstd(vals):0.3f} ({np.quantile(sds,0.025):0.3f}-{np.quantile(sds,0.975):0.3f})\\n\")    \n",
    "print(f\"#sample collection to results,{np.nanmean(vals):0.3f} ({np.quantile(means,0.025):0.3f}-{np.quantile(means,0.975):0.3f}),{np.nanstd(vals):0.3f} ({np.quantile(sds,0.025):0.3f}-{np.quantile(sds,0.975):0.3f})\\n\")\n",
    "f.close()"
   ]
  }
 ],
 "metadata": {
  "kernelspec": {
   "display_name": "Python (tensorflow)",
   "language": "python",
   "name": "tensorflow"
  },
  "language_info": {
   "codemirror_mode": {
    "name": "ipython",
    "version": 3
   },
   "file_extension": ".py",
   "mimetype": "text/x-python",
   "name": "python",
   "nbconvert_exporter": "python",
   "pygments_lexer": "ipython3",
   "version": "3.6.8"
  }
 },
 "nbformat": 4,
 "nbformat_minor": 4
}
